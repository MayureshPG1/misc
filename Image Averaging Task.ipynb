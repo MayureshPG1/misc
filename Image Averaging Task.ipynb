{
 "cells": [
  {
   "cell_type": "code",
   "execution_count": 1,
   "metadata": {},
   "outputs": [
    {
     "name": "stdout",
     "output_type": "stream",
     "text": [
      "[[225 227  33 208  80 184 129  76 124  73]\n",
      " [122   3 162 219 154 112 215 252  37  76]\n",
      " [169  80  25  40 148  88 193 120 190 121]\n",
      " [ 34  29 196 198   7 125 245 142 119 227]\n",
      " [223 149 187 205 226 229   3 227 121 219]\n",
      " [ 54  44  33 189   4 166  89 113 169 173]\n",
      " [249 212  69 154 104 212   1 145 203 211]\n",
      " [150 131 216  82 114 132 157  27 231 145]\n",
      " [249 168 145 127 113 129 213  15  37 229]\n",
      " [ 48 161 243  57 210  57  31 157 242  49]]\n"
     ]
    }
   ],
   "source": [
    "import numpy as np\n",
    "\n",
    "#fix image size\n",
    "imgSize = 10\n",
    "\n",
    "# create a random image within the range of 0-255 with given size\n",
    "img1 = np.random.randint(0,255,size=(imgSize,imgSize),dtype='int')\n",
    "\n",
    "# display image 1\n",
    "print(img1)"
   ]
  },
  {
   "cell_type": "code",
   "execution_count": 2,
   "metadata": {},
   "outputs": [
    {
     "name": "stdout",
     "output_type": "stream",
     "text": [
      "[[159   1  95  49  70 165 133  32 200 124]\n",
      " [206  76 227  86 254 193 206  75  36 187]\n",
      " [ 24 238 244 186  49 217  11 238 230 102]\n",
      " [244  85 222 220  48  78  74 243 208  16]\n",
      " [241  11 200 208  85  41 190  14  12  37]\n",
      " [ 50 201 228 183  42 254 143  32  88  19]\n",
      " [152 113  58  33  39 138 241 200 252 141]\n",
      " [198 201  34  90 127  38  60  29 169  25]\n",
      " [199 101 202  34   0 132 211 210 100 127]\n",
      " [158 183 245 124 225 211 186 186 111  25]]\n"
     ]
    }
   ],
   "source": [
    "# create a second random image within the range of 0-255 with given size\n",
    "img2 = np.random.randint(0,255,size=(imgSize,imgSize),dtype='int')\n",
    "\n",
    "# display image 2\n",
    "print(img2)"
   ]
  },
  {
   "cell_type": "code",
   "execution_count": 3,
   "metadata": {},
   "outputs": [
    {
     "name": "stdout",
     "output_type": "stream",
     "text": [
      "[[192.  114.   64.  128.5  75.  174.5 131.   54.  162.   98.5]\n",
      " [164.   39.5 194.5 152.5 204.  152.5 210.5 163.5  36.5 131.5]\n",
      " [ 96.5 159.  134.5 113.   98.5 152.5 102.  179.  210.  111.5]\n",
      " [139.   57.  209.  209.   27.5 101.5 159.5 192.5 163.5 121.5]\n",
      " [232.   80.  193.5 206.5 155.5 135.   96.5 120.5  66.5 128. ]\n",
      " [ 52.  122.5 130.5 186.   23.  210.  116.   72.5 128.5  96. ]\n",
      " [200.5 162.5  63.5  93.5  71.5 175.  121.  172.5 227.5 176. ]\n",
      " [174.  166.  125.   86.  120.5  85.  108.5  28.  200.   85. ]\n",
      " [224.  134.5 173.5  80.5  56.5 130.5 212.  112.5  68.5 178. ]\n",
      " [103.  172.  244.   90.5 217.5 134.  108.5 171.5 176.5  37. ]]\n"
     ]
    }
   ],
   "source": [
    "# get average of two images \n",
    "img3 = np.add(img1,img2) / 2\n",
    "\n",
    "#show output\n",
    "print(img3)"
   ]
  },
  {
   "cell_type": "code",
   "execution_count": 5,
   "metadata": {},
   "outputs": [
    {
     "name": "stdout",
     "output_type": "stream",
     "text": [
      "[[195 105  47 121  60 174 124  35 160  87]\n",
      " [162  19 197 149 208 149 216 162  15 125]\n",
      " [ 84 156 128 103  87 149  91 180 215 102]\n",
      " [133  39 214 214   5  90 157 195 162 113]\n",
      " [241  65 196 211 152 129  84 112  50 121]\n",
      " [ 33 114 124 188   0 215 107  57 121  84]\n",
      " [204 160  46  81  55 175 113 172 235 176]\n",
      " [174 165 117  72 112  71  98   5 204  71]\n",
      " [231 128 173  66  38 124 218 103  52 178]\n",
      " [ 92 171 255  77 224 128  98 171 177  16]]\n"
     ]
    }
   ],
   "source": [
    "# normalize output\n",
    "img3 = (img3 - img3.min()) * 255/(img3.max() - img3.min())\n",
    "\n",
    "# convert to int\n",
    "img3 = img3.astype(int)\n",
    "\n",
    "# show final normalized output\n",
    "print(img3)"
   ]
  },
  {
   "cell_type": "code",
   "execution_count": null,
   "metadata": {},
   "outputs": [],
   "source": []
  }
 ],
 "metadata": {
  "kernelspec": {
   "display_name": "Python 3",
   "language": "python",
   "name": "python3"
  },
  "language_info": {
   "codemirror_mode": {
    "name": "ipython",
    "version": 3
   },
   "file_extension": ".py",
   "mimetype": "text/x-python",
   "name": "python",
   "nbconvert_exporter": "python",
   "pygments_lexer": "ipython3",
   "version": "3.7.1"
  }
 },
 "nbformat": 4,
 "nbformat_minor": 2
}
